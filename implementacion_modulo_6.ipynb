{
 "cells": [
  {
   "cell_type": "markdown",
   "metadata": {},
   "source": [
    "Distancias entre textos. El último módulo permitirá, dados dos textos, calcular su distancia semántica. \n",
    "\n",
    "Para ello, evalúa diferentes alternativas y justifica la elección final tomada. \n",
    "La función se denominará texts_distance(text1: str, text2: str)"
   ]
  }
 ],
 "metadata": {
  "language_info": {
   "name": "python"
  }
 },
 "nbformat": 4,
 "nbformat_minor": 2
}
