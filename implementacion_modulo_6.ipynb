{
 "cells": [
  {
   "cell_type": "markdown",
   "metadata": {},
   "source": [
    "Distancias entre textos. El último módulo permitirá, dados dos textos, calcular su distancia semántica. \n",
    "\n",
    "Para ello, evalúa diferentes alternativas y justifica la elección final tomada. \n",
    "La función se denominará texts_distance(text1: str, text2: str)"
   ]
  },
  {
   "cell_type": "markdown",
   "metadata": {},
   "source": [
    "### Cosine similarity con TF-IDF:"
   ]
  },
  {
   "cell_type": "markdown",
   "metadata": {},
   "source": [
    "- Ideal para comparar documentos de diferentes longitudes\n",
    "- Considera la importancia relativa de las palabras\n",
    "- Computacionalmente eficiente\n",
    "- Resultados fáciles de interpretar (0-1)"
   ]
  },
  {
   "cell_type": "code",
   "execution_count": 1,
   "metadata": {},
   "outputs": [],
   "source": [
    "from sklearn.feature_extraction.text import TfidfVectorizer\n",
    "from sklearn.metrics.pairwise import cosine_similarity\n",
    "\n",
    "def texts_distance_tfidf(text1: str, text2: str) -> float:\n",
    "    '''\n",
    "    Calcula la distancia entre dos textos usando TfIdf y cosine_similarity\n",
    "    '''\n",
    "    vectorizer = TfidfVectorizer()\n",
    "    tfidf_matrix = vectorizer.fit_transform([text1, text2])\n",
    "    return 1 - cosine_similarity(tfidf_matrix[0:1], tfidf_matrix[1:2])[0][0]\n"
   ]
  },
  {
   "cell_type": "markdown",
   "metadata": {},
   "source": [
    "### Distancia Jaccard"
   ]
  },
  {
   "cell_type": "code",
   "execution_count": null,
   "metadata": {},
   "outputs": [],
   "source": [
    "def jaccard_distance(text1: str, text2: str) -> float:\n",
    "    '''\n",
    "    Distancia Jaccard entre dos textos. Simple y rápido, aunque solo\n",
    "    considera presencia o ausencia de palabras.\n",
    "    '''\n",
    "    tokens1 = set(text1.split())\n",
    "    tokens2 = set(tokens2.split())\n",
    "    intersection = len(tokens1 & tokens2)\n",
    "    union = len(tokens1 | tokens2)\n",
    "    return 1 - (intersection / union if union != 0 else 0)"
   ]
  },
  {
   "cell_type": "markdown",
   "metadata": {},
   "source": [
    "### Distancia basada en frecuencias de palabras"
   ]
  },
  {
   "cell_type": "code",
   "execution_count": null,
   "metadata": {},
   "outputs": [],
   "source": [
    "def frequency_distance(text1: str, text2: str) -> float:\n",
    "    "
   ]
  },
  {
   "cell_type": "code",
   "execution_count": null,
   "metadata": {},
   "outputs": [],
   "source": [
    "def word2vec_distance(text1: str, text2: str) -> float:\n",
    "    \n",
    "    model = Word2Vec"
   ]
  }
 ],
 "metadata": {
  "kernelspec": {
   "display_name": "mainenv",
   "language": "python",
   "name": "python3"
  },
  "language_info": {
   "codemirror_mode": {
    "name": "ipython",
    "version": 3
   },
   "file_extension": ".py",
   "mimetype": "text/x-python",
   "name": "python",
   "nbconvert_exporter": "python",
   "pygments_lexer": "ipython3",
   "version": "3.12.8"
  }
 },
 "nbformat": 4,
 "nbformat_minor": 2
}
