{
 "cells": [
  {
   "cell_type": "markdown",
   "metadata": {},
   "source": [
    "Extracción de información. Deberás implementar varias funciones que, recibiendo como \n",
    "entrada un string (un post), devuelvan una lista con los resultados obtenidos. \n",
    " \n",
    "- find_subreddit_mentions(text: str):Permitirá extraer los subreddits mencionados en \n",
    "un post. Por ejemplo: “'I\\'m cross posting this from /r/cyberlaw, hopefully you guys find it \n",
    "as interesting”. Se debe extraer en este caso /r/cyberlaw. En caso de que haya más de uno, \n",
    "se deberán extraer todos y guardarlos en una lista. Para ello, se deberá utiliza una única \n",
    "expresión regular. \n",
    "- url_extraction(text: str) à Permitirá extraer todas las URLs en un post mediante una única \n",
    "expresión regular \n",
    "- phone_number_extracion(text: str): à Permitirá la extracción de números de teléfono \n",
    "mediante una única expresión regular \n",
    "- dates_extraction(text: str): à Permitirá la extracción de todas las fechas contenidas en un \n",
    "post. \n",
    "- code_extraction(text:str): Extracción de código de programación o HTML incluido en un \n",
    "post. Permitirá la extracción de todo el código que se incluya en un post. \n",
    "\n",
    "Todas  las  funciones  estarán  explicadas  y  detalladas  en  el  notebook  correspondiente, \n",
    "incluyendo su implementación final en 5 nuevas funciones en el archivo core.py"
   ]
  },
  {
   "cell_type": "markdown",
   "metadata": {},
   "source": [
    "<h3>Patrones 're' y desarrollo de código</h3>\n",
    "\n",
    "- Teniendo en cuenta que ya se ha debido eliminar tanto url's, números de teléfono, fechas, código HTML o menciones a subreddit para la adición de la columna 'post', gran parte del código será reutilizado aunque parcialmente modificado (centrarse en retornar 'matches' más que en eliminarlos).\n",
    "\n",
    "- Para la extracción del patrón de subreddit nos atenemos a las normas de construcción permitidas para los nombres\n",
    "```def find_subreddit_mentions(text: str)```\n",
    "\n",
    "- Para la extracción de números de teléfono tomamos en cuenta las siguientes posibilidades, procurando abarcar las máximas posibilidades: \n",
    "```\n",
    "telefonos: [\n",
    "    \"Contacta al 123-456-7890 para más información.\",\n",
    "    \"Nuestro número es (098) 765-4321.\",\n",
    "    \"Llámanos al +1 234 567 8901 o al 345.678.9012.\",\n",
    "    \"Número internacional: +44 20 7946 0958.\"\n",
    "    \"De 3 en 3 dígitos sin prefijo: 654 321 890.\"\n",
    "]\n",
    "phone_number_pattern = re.compile(\n",
    "    r'(\\+?\\d{1,3}[-.\\s]?)?'      # Prefijo\n",
    "    r'(\\(?\\d{3}\\)?[-.\\s]?)?'     # Código de área \n",
    "    r'(\\d{3}[-.\\s]?\\d{4})'       # Número de teléfono principal\n",
    "    r'|(\\+?\\d{1,3}[-.\\s]?)?'     # Prefijo internacional opcional 3 dígitos\n",
    "    r'(\\d{3}[-.\\s]\\d{3}[-.\\s]\\d{3})'  # Formato tipo \"654 231 235\"\n",
    ")\n",
    "```"
   ]
  },
  {
   "cell_type": "code",
   "execution_count": null,
   "metadata": {},
   "outputs": [],
   "source": [
    "from typing import List\n",
    "import re\n",
    "\n",
    "def find_subreddit_mentions(text: str) -> List[str]|str:\n",
    "    subreddit_mention_pattern = re.compile(r'/r/[A-Za-z0-9]')\n",
    "    subreddit_mentions = re.findall(subreddit_mention_pattern, text)\n",
    "    return subreddit_mentions\n",
    "\n",
    "def url_extraction(text: str) -> List[str]|str:\n",
    "    url_pattern = patron_url = re.compile(\n",
    "    r'(https?://(?:www\\.|(?!www))[^\\s]+)|'      # URLs con http:// o https://\n",
    "    r'(www\\.[^\\s]+)|'                           # URLs que empiezan con www.\n",
    "    r'([a-zA-Z0-9.-]+\\.[a-zA-Z]{2,})'           # URLs sin protocolo\n",
    "    )\n",
    "    urls = re.findall(text, url_pattern)\n",
    "    return urls\n",
    "\n",
    "def phone_number_extraction(text: str) -> List[str]|str:\n",
    "    phone_number_pattern = re.compile(\n",
    "    r'(\\+?\\d{1,3}[-.\\s]?)?'      # Prefijo internacional opcional\n",
    "    r'(\\(?\\d{3}\\)?[-.\\s]?)?'     # Código de área opcional con o sin paréntesis\n",
    "    r'(\\d{3}[-.\\s]?\\d{4})'       # Número de teléfono principal\n",
    "    r'|(\\+?\\d{1,3}[-.\\s]?)?'     # Prefijo internacional opcional para números de 3 grupos\n",
    "    r'(\\d{3}[-.\\s]\\d{3}[-.\\s]\\d{3})'  # Formato tipo \"654 231 235\"\n",
    "    )\n",
    "    phone_numbers = re.findall(text, phone_number_pattern)\n",
    "    return phone_numbers\n",
    "def dates_extraction(text: str) -> List[str]|str:\n",
    "    dates_pattern = re.compile(r'')\n",
    "def code_extraction(text: str) -> List[str]|str:\n",
    "    from bs4 import BeautifulSoup\n",
    "    plain_text = BeautifulSoup(text, 'html.parser').get_text()\n",
    "    return plai"
   ]
  }
 ],
 "metadata": {
  "kernelspec": {
   "display_name": "mainenv",
   "language": "python",
   "name": "python3"
  },
  "language_info": {
   "name": "python",
   "version": "3.12.8"
  }
 },
 "nbformat": 4,
 "nbformat_minor": 2
}
