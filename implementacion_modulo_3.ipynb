{
 "cells": [
  {
   "cell_type": "markdown",
   "metadata": {},
   "source": [
    "Extracción de información. Deberás implementar varias funciones que, recibiendo como \n",
    "entrada un string (un post), devuelvan una lista con los resultados obtenidos. \n",
    " \n",
    "- find_subreddit_mentions(text: str): à Permitirá extraer los subreddits mencionados en \n",
    "un post. Por ejemplo: “'I\\'m cross posting this from /r/cyberlaw, hopefully you guys find it \n",
    "as interesting”. Se debe extraer en este caso /r/cyberlaw. En caso de que haya más de uno, \n",
    "se deberán extraer todos y guardarlos en una lista. Para ello, se deberá utiliza una única \n",
    "expresión regular. \n",
    "- url_extraction(text: str) à Permitirá extraer todas las URLs en un post mediante una única \n",
    "expresión regular \n",
    "- phone_number_extracion(text: str): à Permitirá la extracción de números de teléfono \n",
    "mediante una única expresión regular \n",
    "- dates_extraction(text: str): à Permitirá la extracción de todas las fechas contenidas en un \n",
    "post. \n",
    "- code_extraction(text:str): Extracción de código de programación o HTML incluido en un \n",
    "post. Permitirá la extracción de todo el código que se incluya en un post. \n",
    "Todas  las  funciones  estarán  explicadas  y  detalladas  en  el  notebook  correspondiente, \n",
    "incluyendo su implementación final en 5 nuevas funciones en el archivo core.py"
   ]
  }
 ],
 "metadata": {
  "kernelspec": {
   "display_name": "Python 3",
   "language": "python",
   "name": "python3"
  },
  "language_info": {
   "name": "python",
   "version": "3.12.8"
  }
 },
 "nbformat": 4,
 "nbformat_minor": 2
}
