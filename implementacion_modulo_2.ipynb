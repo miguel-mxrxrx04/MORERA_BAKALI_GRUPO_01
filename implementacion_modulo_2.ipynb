{
 "cells": [
  {
   "cell_type": "markdown",
   "metadata": {
    "vscode": {
     "languageId": "markdown"
    }
   },
   "source": [
    "2. Sistema de clasificación de subreddit. \n",
    "\n",
    "Se deberá implementar una función ```classify_subreddit(text)``` que clasifique un texto de entrada en una de las siguientes \n",
    "categorías: **MachineLearning, datascience, statistics, learnmachinelearning, computerscience, AskStatistics, artificial, analytics, datasets, deeplearning, rstats, computervision, DataScienceJobs, MLQuestions, dataengineering, data, dataanalysis, \n",
    "datascienceproject, Kaggle**.\n",
    "\n",
    "Para ello, se proporciona un dataset sobre el que se podrán entrenar distintos algoritmos\n",
    "de clasificación. La etiqueta del subreddit correspondiente se encuentra en la columna \"subreddit\". Se deberán probar, al menos, los siguientes 3 métodos:\n",
    "- Un método basado en TF-IDF + algoritmo de clasificación de machine learning\n",
    "- Un método basado en entidades reconocidas (Named-Entity Recognition) + algoritmo declasificación de machine learning \n",
    "- Un método basado en Word Embeddings + algoritmo de clasificación de machine learning\n",
    "\n",
    "Para evaluar cada método, se utilizará la métrica f1 score, y se utilizará un 70% de los datos\n",
    "del dataset para entrenamiento y un 30% para test (realizando un sampling aleatorio\n",
    "previo).\"\"\"\n",
    "\n",
    "from IPython.display import Markdown\n",
    "display(Markdown(ejercicio))"
   ]
  },
  {
   "cell_type": "markdown",
   "metadata": {},
   "source": [
    "Los posts de entrenamiento se encuentran en la columna 'clean_post' del dataframe, y las labels en la columna 'subreddit'. Las siguientes son las categorías en las que clasificaremos cada post:"
   ]
  },
  {
   "cell_type": "code",
   "execution_count": null,
   "metadata": {},
   "outputs": [],
   "source": [
    "categories = ['MachineLearning', 'datascience', 'statistics', 'learnmachinelearning', 'computerscience', 'AskStatistics', 'artificial', 'analytics', 'datasets', 'deeplearning', 'rstats', 'computervision', 'DataScienceJobs', 'MLQuestions', 'dataengineering', 'data', 'dataanalysis', 'datascienceproject', 'Kaggle']"
   ]
  },
  {
   "cell_type": "markdown",
   "metadata": {},
   "source": [
    "### Método basado en TF-IDF + algoritmo de clasificación de machine learning"
   ]
  },
  {
   "cell_type": "code",
   "execution_count": null,
   "metadata": {},
   "outputs": [],
   "source": []
  },
  {
   "cell_type": "markdown",
   "metadata": {},
   "source": [
    "### Un método basado en entidades reconocidas (Named-Entity Recognition) + algoritmo declasificación de machine learning "
   ]
  },
  {
   "cell_type": "markdown",
   "metadata": {},
   "source": [
    "### Un método basado en Word Embeddings + algoritmo de clasificación de machine learning"
   ]
  }
 ],
 "metadata": {
  "kernelspec": {
   "display_name": "Python 3",
   "language": "python",
   "name": "python3"
  },
  "language_info": {
   "name": "python",
   "version": "3.12.8"
  }
 },
 "nbformat": 4,
 "nbformat_minor": 2
}
