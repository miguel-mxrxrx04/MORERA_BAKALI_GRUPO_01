{
 "cells": [
  {
   "cell_type": "markdown",
   "metadata": {},
   "source": [
    "Análisis de sentimiento. Implementa un módulo de detección de sentimiento de los posts. \n",
    "\n",
    "Para entrenar y evaluar diferentes métodos, dispones de la columna “sentiment” en el dataset.  \n",
    "Al  igual  que  en  el  módulo  de  clasificación  de  subreddits,  Para  evaluar  cada método, se utilizará la métrica f1 score, y se utilizará un 70% de los datos del dataset para entrenamiento y un 30% para test (realizando un sampling aleatorio previo). Deberás probar \n",
    "y evaluar los siguientes métodos: \n",
    "\n",
    "- Un método basado en lexicons \n",
    "- Un método basado en palabras únicas en textos de cada tipo de sentimiento \n",
    "- Un método basado en Word embeddings + algoritmo de machine learning de clasificación.\n",
    "\n",
    "La función de este módulo tendrá como nombre sentiment_analysis(text: str)"
   ]
  },
  {
   "cell_type": "markdown",
   "metadata": {},
   "source": [
    "### Método basado en lexicons"
   ]
  },
  {
   "cell_type": "code",
   "execution_count": null,
   "metadata": {},
   "outputs": [],
   "source": [
    "def sentiment_analysis_lexicons(text: str):\n",
    "    "
   ]
  },
  {
   "cell_type": "code",
   "execution_count": null,
   "metadata": {},
   "outputs": [],
   "source": [
    "def sentiment_analysis(text:str):\n",
    "    pass"
   ]
  }
 ],
 "metadata": {
  "kernelspec": {
   "display_name": "mainenv",
   "language": "python",
   "name": "python3"
  },
  "language_info": {
   "name": "python",
   "version": "3.12.8"
  }
 },
 "nbformat": 4,
 "nbformat_minor": 2
}
