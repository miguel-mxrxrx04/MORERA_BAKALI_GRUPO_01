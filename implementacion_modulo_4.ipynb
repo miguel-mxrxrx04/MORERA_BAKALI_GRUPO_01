{
 "cells": [
  {
   "cell_type": "markdown",
   "metadata": {},
   "source": [
    "Análisis de sentimiento. Implementa un módulo de detección de sentimiento de los posts. \n",
    "\n",
    "Para entrenar y evaluar diferentes métodos, dispones de la columna “sentiment” en el dataset.  \n",
    "Al  igual  que  en  el  módulo  de  clasificación  de  subreddits,  Para  evaluar  cada método, se utilizará la métrica f1 score, y se utilizará un 70% de los datos del dataset para entrenamiento y un 30% para test (realizando un sampling aleatorio previo). Deberás probar \n",
    "y evaluar los siguientes métodos: \n",
    "\n",
    "- Un método basado en lexicons \n",
    "- Un método basado en palabras únicas en textos de cada tipo de sentimiento \n",
    "- Un método basado en Word embeddings + algoritmo de machine learning de clasificación.\n",
    "\n",
    "La función de este módulo tendrá como nombre sentiment_analysis(text: str)"
   ]
  },
  {
   "cell_type": "code",
   "execution_count": 1,
   "metadata": {},
   "outputs": [],
   "source": [
    "import pandas as pd\n",
    "import numpy as np\n",
    "from sklearn.model_selection import train_test_split\n",
    "from sklearn.metrics import f1_score"
   ]
  },
  {
   "cell_type": "markdown",
   "metadata": {},
   "source": [
    "### Método basado en lexicons"
   ]
  },
  {
   "cell_type": "markdown",
   "metadata": {},
   "source": [
    "En un método basado en lexicones, no hay un proceso de entrenamiento supervisado convencional; en su lugar, se hace uso de listas o diccionarios de palabras con polaridad (positivas/negativas).\n",
    "\n",
    "El f1 score se calcula, en este caso, asumiendo un problema binario (positivo/negativo) y se utiliza una división de datos del 70% para entrenamiento y 30% para prueba de manera aleatoria, siguiendo tus requerimientos."
   ]
  },
  {
   "cell_type": "code",
   "execution_count": null,
   "metadata": {},
   "outputs": [],
   "source": [
    "def sentiment_analysis_lexicons(text: str):\n",
    "    pass"
   ]
  },
  {
   "cell_type": "markdown",
   "metadata": {},
   "source": [
    "### Método basado en palabras únicas"
   ]
  },
  {
   "cell_type": "code",
   "execution_count": null,
   "metadata": {},
   "outputs": [],
   "source": [
    "def sentiment_analysis_bow(text:str):\n",
    "    pass"
   ]
  },
  {
   "cell_type": "markdown",
   "metadata": {},
   "source": [
    "### Método basado en word embeddgins + ML"
   ]
  }
 ],
 "metadata": {
  "kernelspec": {
   "display_name": "mainenv",
   "language": "python",
   "name": "python3"
  },
  "language_info": {
   "codemirror_mode": {
    "name": "ipython",
    "version": 3
   },
   "file_extension": ".py",
   "mimetype": "text/x-python",
   "name": "python",
   "nbconvert_exporter": "python",
   "pygments_lexer": "ipython3",
   "version": "3.12.8"
  }
 },
 "nbformat": 4,
 "nbformat_minor": 2
}
