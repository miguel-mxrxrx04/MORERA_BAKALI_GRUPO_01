{
 "cells": [
  {
   "cell_type": "markdown",
   "id": "b2c01f68811f0197",
   "metadata": {},
   "source": [
    "**Prueba módulo 1**"
   ]
  },
  {
   "cell_type": "code",
   "execution_count": null,
   "id": "initial_id",
   "metadata": {
    "collapsed": true
   },
   "outputs": [],
   "source": [
    "from core import preprocess_post\n",
    "import pandas as pd\n",
    "reddit_df = pd.read_csv('processed_dataset.csv', delimiter=';', encoding='utf-8', low_memory=False)\n",
    "text = reddit_df.sample(10)"
   ]
  },
  {
   "cell_type": "code",
   "execution_count": null,
   "id": "881918af",
   "metadata": {},
   "outputs": [],
   "source": [
    "preprocess_post(text['subreddit'])"
   ]
  },
  {
   "cell_type": "markdown",
   "id": "0b9b143f",
   "metadata": {},
   "source": [
    "**Prueba módulo 2**"
   ]
  },
  {
   "cell_type": "code",
   "execution_count": null,
   "id": "06b52eac",
   "metadata": {},
   "outputs": [],
   "source": [
    "from core import classify_subreddit\n",
    "classify_subreddit(text['subreddit'])"
   ]
  },
  {
   "cell_type": "markdown",
   "id": "2afeb012",
   "metadata": {},
   "source": [
    "**Prueba módulo 3**"
   ]
  },
  {
   "cell_type": "code",
   "execution_count": null,
   "id": "d06a66a9",
   "metadata": {},
   "outputs": [],
   "source": [
    "from core import find_subreddit_mentions, url_extraction, phone_number_extraction, dates_extraction, code_extraction\n",
    "\n",
    "data_test = {\n",
    "    'subreddit': [\n",
    "        \"Me encanta discutir sobre inteligencia artificial en /r/MachineLearning!\",\n",
    "        \"Revisa las nuevas características en /r/Python y /r/DataScience.\",\n",
    "        \"Este post no menciona ningún subreddit específico.\",\n",
    "        \"Para principiantes, /r/learnprogramming es un excelente lugar para comenzar.\",\n",
    "        \"Ten cuidado con subreddits como /r/spam y /r/scam_groups.\"\n",
    "    ],\n",
    "    'url': [\n",
    "        \"Visita https://www.example.com para más información.\",\n",
    "        \"Nuestro sitio es www.example.org y también tenemos http://example.net.\",\n",
    "        \"Encuentra recursos en example.com y otros dominios.\",\n",
    "        \"Sin URLs aquí.\",\n",
    "        \"Visita nuestras redes sociales en https://facebook.com/example y https://twitter.com/example.\"\n",
    "    ], \n",
    "    'phone_number': [\n",
    "        \"Contacta al 123-456-7890 para más información.\",\n",
    "        \"Nuestro número es (098) 765-4321.\",\n",
    "        \"Llámanos al +1 234 567 8901 o al 654 231 235.\",\n",
    "        \"Sin número de teléfono aquí.\",\n",
    "        \"Número internacional: +44 20 7946 0958.\",\n",
    "        \"Código de seguridad: 789\",\n",
    "        \"Código promocional: +49 123\",\n",
    "        \"Número corto: 456\",\n",
    "        \"Otro número: +33 321\"\n",
    "    ], \n",
    "    'dates': [\n",
    "        \"La reunión es el 12/05/2021 y otra el 23-06-2022.\",\n",
    "        \"Fecha de lanzamiento: March 15, 2023.\",\n",
    "        \"El proyecto inició en 2020/01/10 y finalizará en 2024-12-31.\",\n",
    "        \"Sin fechas aquí.\",\n",
    "        \"Evento programado para el 07-04-2021 y el 2021/12/25.\"\n",
    "    ], \n",
    "    'code': [\n",
    "        \"Aquí hay un ejemplo de código en línea: `print('Hola Mundo')`.\",\n",
    "        \"Bloque de código:\\n```python\\nfor i in range(5):\\n    print(i)\\n```\",\n",
    "        \"Me gusta usar HTML: `<div class='container'></div>` en mis proyectos.\",\n",
    "        \"Sin código aquí.\",\n",
    "        \"Código JavaScript en línea: `console.log('Hello');`.\",\n",
    "        \"Otro bloque de código:\\n```html\\n<!DOCTYPE html>\\n<html>\\n</html>\\n```\",\n",
    "        \"Fragmento de SQL: `SELECT * FROM users WHERE id = 1;`.\",\n",
    "        \"Código en Java:\\n```java\\npublic class HelloWorld {\\n    public static void main(String[] args) {\\n        System.out.println(\\\"Hello, World!\\\");\\n    }\\n}\\n```\",\n",
    "        \"Uso de CSS: `<style>\\nbody { background-color: #f0f0f0; }\\n</style>`.\"\n",
    "    ]\n",
    "}\n",
    "\n",
    "print('Menciones: \\n')\n",
    "for i, text in enumerate(data_test['subreddit']):\n",
    "    print(f'Test:{text}. Subreddits:{find_subreddit_mentions(text)}\\n')\n",
    "print('URLs: \\n')\n",
    "for i, text in enumerate(data_test['url']):\n",
    "    print(f'Test:{text}. URLs:{url_extraction(text)}\\n')\n",
    "print('Phone numbers: \\n')\n",
    "for i, text in enumerate(data_test['phone_number']):\n",
    "    print(f'Test:{text}. Phone numbers:{phone_number_extraction(text)}\\n')\n",
    "print('Dates: \\n')\n",
    "for i, text in enumerate(data_test['dates']):\n",
    "    print(f'Test:{text}. Dates:{dates_extraction(text)}\\n')\n",
    "print('Codes: \\n')\n",
    "for i, text in enumerate(data_test['code']):\n",
    "    print(f'Test:{text}. HTML code:{code_extraction(text)}\\n')\n"
   ]
  },
  {
   "cell_type": "markdown",
   "id": "c0352534",
   "metadata": {},
   "source": [
    "**Prueba módulo 4**"
   ]
  },
  {
   "cell_type": "code",
   "execution_count": null,
   "id": "dc7e286f",
   "metadata": {},
   "outputs": [],
   "source": []
  },
  {
   "cell_type": "markdown",
   "id": "80ca73a5",
   "metadata": {},
   "source": [
    "**Prueba módulo 5**"
   ]
  },
  {
   "cell_type": "code",
   "execution_count": null,
   "id": "02be8ea8",
   "metadata": {},
   "outputs": [],
   "source": []
  },
  {
   "cell_type": "markdown",
   "id": "d982ca36",
   "metadata": {},
   "source": [
    "**Prueba módulo 6**"
   ]
  },
  {
   "cell_type": "code",
   "execution_count": null,
   "id": "81254b6d",
   "metadata": {},
   "outputs": [],
   "source": [
    "from core import text_distance\n",
    "text_distance(text.loc[0, 'subereddit'], text.loc[1, 'subereddit'])"
   ]
  }
 ],
 "metadata": {
  "kernelspec": {
   "display_name": "mainenv",
   "language": "python",
   "name": "python3"
  },
  "language_info": {
   "codemirror_mode": {
    "name": "ipython",
    "version": 3
   },
   "file_extension": ".py",
   "mimetype": "text/x-python",
   "name": "python",
   "nbconvert_exporter": "python",
   "pygments_lexer": "ipython3",
   "version": "3.12.8"
  }
 },
 "nbformat": 4,
 "nbformat_minor": 5
}
