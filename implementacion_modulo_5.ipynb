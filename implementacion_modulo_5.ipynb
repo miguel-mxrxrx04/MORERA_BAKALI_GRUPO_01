{
 "cells": [
  {
   "cell_type": "markdown",
   "metadata": {},
   "source": [
    "Generación de resúmenes.  Implementa  un  método  de  resumen  extractivo  de  posts basado  en  frecuencias  y  evalúa  el  resultado.  \n",
    "\n",
    "Deberás  realizar  distintas  pruebas  para \n",
    "demostrar  que  el  método  es  adecuado  para  el  tipo  de  textos,  realizando  los  ajustes \n",
    "necesarios  para  su  correcto  funcionamiento.  \n",
    "\n",
    "La  función  se  denominará \n",
    "post_summarisation(text: str)"
   ]
  },
  {
   "cell_type": "code",
   "execution_count": null,
   "metadata": {
    "vscode": {
     "languageId": "plaintext"
    }
   },
   "outputs": [],
   "source": [
    "def post_summarisation(text: str):\n",
    "    pass"
   ]
  }
 ],
 "metadata": {
  "language_info": {
   "name": "python"
  }
 },
 "nbformat": 4,
 "nbformat_minor": 2
}
